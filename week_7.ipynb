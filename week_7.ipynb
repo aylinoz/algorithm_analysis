{
 "cells": [
  {
   "cell_type": "code",
   "execution_count": null,
   "metadata": {
    "collapsed": false
   },
   "outputs": [
    {
     "data": {
      "text/plain": [
       "[3, 4, 5, 0, 6]"
      ]
     },
     "execution_count": 31,
     "metadata": {},
     "output_type": "execute_result"
    }
   ],
   "source": [
    "from random import randint\n",
    "\n",
    "def create_A_vector(size):\n",
    "    my_vector=[]\n",
    "    for i in range(size):\n",
    "        my_vector.append(randint(0,9))\n",
    "    return  my_vector\n",
    "my_vector_1=create_A_vector(5)\n",
    "my_vector_1\n"
   ]
  },
  {
   "cell_type": "code",
   "execution_count": 32,
   "metadata": {
    "collapsed": false
   },
   "outputs": [
    {
     "data": {
      "text/plain": [
       "[[2, 7, 0], [4, 6, 0]]"
      ]
     },
     "execution_count": 32,
     "metadata": {},
     "output_type": "execute_result"
    }
   ],
   "source": [
    "def creat_a_matris(m,n):\n",
    "    my_matris=[]\n",
    "    for i in range(m):\n",
    "        my_matris.append(create_A_vector(n))\n",
    "    return my_matris\n",
    "a=creat_a_matris(2,3)\n",
    "a\n"
   ]
  },
  {
   "cell_type": "code",
   "execution_count": 38,
   "metadata": {
    "collapsed": false
   },
   "outputs": [
    {
     "data": {
      "text/plain": [
       "(2, 3)"
      ]
     },
     "execution_count": 38,
     "metadata": {},
     "output_type": "execute_result"
    }
   ],
   "source": [
    "len(a),len(a[0]) # satır ve sutun sayısını gosteriyor"
   ]
  },
  {
   "cell_type": "code",
   "execution_count": 39,
   "metadata": {
    "collapsed": false
   },
   "outputs": [],
   "source": [
    "def vector_inner_product(v1,v2):\n",
    "    if(len(v1)!=len(v2)):\n",
    "        print(\"vektor aynı boyutta olmalı\")\n",
    "        return\n",
    "    result=0\n",
    "    for i in range(len(v1)):\n",
    "        result=result+v1[i]*v2[i]\n",
    "    return result"
   ]
  },
  {
   "cell_type": "code",
   "execution_count": 40,
   "metadata": {
    "collapsed": false
   },
   "outputs": [
    {
     "name": "stdout",
     "output_type": "stream",
     "text": [
      "[5, 6, 4, 5, 6] [4, 9, 3, 5, 5]\n"
     ]
    },
    {
     "data": {
      "text/plain": [
       "141"
      ]
     },
     "execution_count": 40,
     "metadata": {},
     "output_type": "execute_result"
    }
   ],
   "source": [
    "my_vector_1=create_A_vector(5)\n",
    "my_vector_2=create_A_vector(5)\n",
    "print(my_vector_1,my_vector_2)\n",
    "vector_produc=vector_inner_product(my_vector_1,my_vector_2)\n",
    "vector_produc"
   ]
  },
  {
   "cell_type": "code",
   "execution_count": 43,
   "metadata": {
    "collapsed": false
   },
   "outputs": [
    {
     "name": "stdout",
     "output_type": "stream",
     "text": [
      "([[29, 63, 79, 61, 79], [18, 26, 37, 40, 48]], 30)\n"
     ]
    }
   ],
   "source": [
    "def matris_mutliplication(a,b):\n",
    "    m=len(a)\n",
    "    n=len(a[0])\n",
    "    p=len(b[0])\n",
    "    my_matris=creat_a_matris(m,p)\n",
    "    for i in range(m):\n",
    "        for j in range(p):\n",
    "            vector_1=a[i]\n",
    "            vector_2=[i[j] for i in b] # sutun bulmak icin \n",
    "            my_matris[i][j]=vector_inner_product(vector_1,vector_2)\n",
    "    return (my_matris,m*n*p)\n",
    "a=creat_a_matris(2,3)\n",
    "b=creat_a_matris(3,5)\n",
    "c=matris_mutliplication(a,b)\n",
    "print(c)"
   ]
  },
  {
   "cell_type": "code",
   "execution_count": 44,
   "metadata": {
    "collapsed": false
   },
   "outputs": [
    {
     "name": "stdout",
     "output_type": "stream",
     "text": [
      "([[3036084, 4554126, 3036084, 6831189, 5313147]], 5) toplam islem sayısı 11010\n"
     ]
    }
   ],
   "source": [
    "a_1=creat_a_matris(1,10)\n",
    "a_2=creat_a_matris(10,1000)\n",
    "a_3=creat_a_matris(1000,1)\n",
    "a_4=creat_a_matris(1,5)\n",
    "a_5=creat_a_matris(5,3)\n",
    "\n",
    "islem_sayisi=0\n",
    "r_1=matris_mutliplication(a_1,a_2)\n",
    "islem_sayisi=islem_sayisi+r_1[1]\n",
    "r_1=matris_mutliplication(r_1[0],a_3)\n",
    "islem_sayisi=islem_sayisi+r_1[1]\n",
    "r_1=matris_mutliplication(r_1[0],a_4)\n",
    "islem_sayisi=islem_sayisi+r_1[1]\n",
    "r_3=matris_mutliplication(r_1[0],a_5)\n",
    "islem_sayisi=islem_sayisi+r_1[1]\n",
    "print(r_1,\"toplam islem sayısı\",islem_sayisi)"
   ]
  },
  {
   "cell_type": "code",
   "execution_count": null,
   "metadata": {
    "collapsed": true
   },
   "outputs": [],
   "source": []
  }
 ],
 "metadata": {
  "anaconda-cloud": {},
  "kernelspec": {
   "display_name": "Python [default]",
   "language": "python",
   "name": "python3"
  },
  "language_info": {
   "codemirror_mode": {
    "name": "ipython",
    "version": 3
   },
   "file_extension": ".py",
   "mimetype": "text/x-python",
   "name": "python",
   "nbconvert_exporter": "python",
   "pygments_lexer": "ipython3",
   "version": "3.5.2"
  }
 },
 "nbformat": 4,
 "nbformat_minor": 1
}
