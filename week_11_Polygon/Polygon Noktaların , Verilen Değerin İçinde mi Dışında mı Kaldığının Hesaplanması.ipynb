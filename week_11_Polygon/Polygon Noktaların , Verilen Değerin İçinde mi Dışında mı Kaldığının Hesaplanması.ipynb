{
 "cells": [
  {
   "cell_type": "code",
   "execution_count": 1,
   "metadata": {
    "collapsed": true
   },
   "outputs": [],
   "source": [
    "def triangle_area(point_1,point_2):\n",
    "    x1=point_1[0]\n",
    "    y1=point_1[1]\n",
    "    z1=point_1[2]\n",
    "    x2=point_2[0]\n",
    "    y2=point_2[1]\n",
    "    z2=point_2[2]\n",
    "    t_1=y1*z2-z1*y2\n",
    "    t_2=-(x1*z2-x2*z1)\n",
    "    t_3=x1*y2-x2*y1\n",
    "    return t_1+t_2+t_3"
   ]
  },
  {
   "cell_type": "code",
   "execution_count": 2,
   "metadata": {
    "collapsed": true
   },
   "outputs": [],
   "source": [
    "def terzioglu_kampus():\n",
    "    border=[]\n",
    "    border.append([0,0,0])\n",
    "    border.append([100,0,0])\n",
    "    border.append([200,50,0])\n",
    "    border.append([50,100,0])\n",
    "    border.append([0,75,0])\n",
    "    return border"
   ]
  },
  {
   "cell_type": "code",
   "execution_count": 3,
   "metadata": {
    "collapsed": true
   },
   "outputs": [],
   "source": [
    "def get_tuples_for_n(n):\n",
    "    return [(i,i+1) for i in range(n)]"
   ]
  },
  {
   "cell_type": "code",
   "execution_count": 6,
   "metadata": {},
   "outputs": [
    {
     "data": {
      "text/plain": [
       "[(0, 1),\n",
       " (1, 2),\n",
       " (2, 3),\n",
       " (3, 4),\n",
       " (4, 5),\n",
       " (5, 6),\n",
       " (6, 7),\n",
       " (7, 8),\n",
       " (8, 9),\n",
       " (9, 10),\n",
       " (10, 11),\n",
       " (11, 12),\n",
       " (12, 13),\n",
       " (13, 14),\n",
       " (14, 15),\n",
       " (15, 16),\n",
       " (16, 17),\n",
       " (17, 18),\n",
       " (18, 19),\n",
       " (19, 20)]"
      ]
     },
     "execution_count": 6,
     "metadata": {},
     "output_type": "execute_result"
    }
   ],
   "source": [
    "get_tuples_for_n(20)"
   ]
  },
  {
   "cell_type": "code",
   "execution_count": 7,
   "metadata": {
    "collapsed": true
   },
   "outputs": [],
   "source": [
    "def get_diff_for_two_point(p0,p1):\n",
    "    return ([p0[0]-p1[0],p0[1]-p1[1],p0[2]-p1[2]])"
   ]
  },
  {
   "cell_type": "code",
   "execution_count": 8,
   "metadata": {},
   "outputs": [
    {
     "data": {
      "text/plain": [
       "[0, 0, 4]"
      ]
     },
     "execution_count": 8,
     "metadata": {},
     "output_type": "execute_result"
    }
   ],
   "source": [
    "p0=[2,3,4]\n",
    "p1=[2,3,0]\n",
    "get_diff_for_two_point(p0,p1)"
   ]
  },
  {
   "cell_type": "code",
   "execution_count": 9,
   "metadata": {
    "collapsed": true
   },
   "outputs": [],
   "source": [
    "def test_point_in_polygone(point_set,test_point):\n",
    "    status=True\n",
    "    kampus.append(kampus[0])\n",
    "    \n",
    "    for edge_two_indis in get_tuples_for_n(len(kampus)-1):\n",
    "        i=edge_two_indis[0]\n",
    "        j=edge_two_indis[1]\n",
    "        p_0=kampus[i]\n",
    "        p_1=kampus[j]\n",
    "        point_p1_p0=get_diff_for_two_point(p_1,p_0)\n",
    "        point_test_p0=get_diff_for_two_point(test_point,p_0)\n",
    "        area=triangle_area(point_p1_p0,point_test_p0)\n",
    "        if(area<0):\n",
    "            status=False\n",
    "            print(i,j,p_0,p_1,point_p1_p0,point_test_p0,area,end=\"\")\n",
    "            print(\"*******outside******\")\n",
    "        else:\n",
    "            print(i,j,p_0,p_1,point_p1_p0,point_test_p0,area)\n",
    "    return status"
   ]
  },
  {
   "cell_type": "code",
   "execution_count": 11,
   "metadata": {
    "collapsed": true
   },
   "outputs": [],
   "source": [
    "kampus=terzioglu_kampus()"
   ]
  },
  {
   "cell_type": "code",
   "execution_count": 12,
   "metadata": {
    "collapsed": true
   },
   "outputs": [],
   "source": [
    "point=[50,300,0]"
   ]
  },
  {
   "cell_type": "code",
   "execution_count": 13,
   "metadata": {},
   "outputs": [
    {
     "name": "stdout",
     "output_type": "stream",
     "text": [
      "0 1 [0, 0, 0] [100, 0, 0] [100, 0, 0] [50, 300, 0] 30000\n",
      "1 2 [100, 0, 0] [200, 50, 0] [100, 50, 0] [-50, 300, 0] 32500\n",
      "2 3 [200, 50, 0] [50, 100, 0] [-150, 50, 0] [-150, 250, 0] -30000*******outside******\n",
      "3 4 [50, 100, 0] [0, 75, 0] [-50, -25, 0] [0, 200, 0] -10000*******outside******\n",
      "4 5 [0, 75, 0] [0, 0, 0] [0, -75, 0] [50, 225, 0] 3750\n"
     ]
    },
    {
     "data": {
      "text/plain": [
       "False"
      ]
     },
     "execution_count": 13,
     "metadata": {},
     "output_type": "execute_result"
    }
   ],
   "source": [
    "test_point_in_polygone(kampus,point)"
   ]
  },
  {
   "cell_type": "code",
   "execution_count": null,
   "metadata": {
    "collapsed": true
   },
   "outputs": [],
   "source": []
  }
 ],
 "metadata": {
  "kernelspec": {
   "display_name": "Python 3",
   "language": "python",
   "name": "python3"
  },
  "language_info": {
   "codemirror_mode": {
    "name": "ipython",
    "version": 3
   },
   "file_extension": ".py",
   "mimetype": "text/x-python",
   "name": "python",
   "nbconvert_exporter": "python",
   "pygments_lexer": "ipython3",
   "version": "3.6.3"
  }
 },
 "nbformat": 4,
 "nbformat_minor": 2
}
